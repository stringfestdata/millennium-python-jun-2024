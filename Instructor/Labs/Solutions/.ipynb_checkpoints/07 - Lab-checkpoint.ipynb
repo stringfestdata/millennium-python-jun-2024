{
 "cells": [
  {
   "cell_type": "markdown",
   "metadata": {},
   "source": [
    "## Import the libraries"
   ]
  },
  {
   "cell_type": "code",
   "execution_count": null,
   "metadata": {},
   "outputs": [],
   "source": [
    "import warnings\n",
    "warnings.filterwarnings(\"ignore\", category=DeprecationWarning) \n",
    "warnings.filterwarnings(\"ignore\", category=FutureWarning) \n",
    "\n",
    "import pandas as pd\n",
    "import numpy as np\n",
    "import matplotlib.pyplot as plt"
   ]
  },
  {
   "cell_type": "markdown",
   "metadata": {},
   "source": [
    "## Load csv file"
   ]
  },
  {
   "cell_type": "code",
   "execution_count": null,
   "metadata": {},
   "outputs": [],
   "source": [
    "df_stores = pd.read_csv(filepath_or_buffer='../Data/Adidas_Stores.csv', index_col='Asset ID')\n",
    "\n",
    "df_stores.head()\n",
    "\n",
    "df_stores.tail()\n",
    "\n",
    "df_stores.describe()\n",
    "\n",
    "df_stores.transpose()\n"
   ]
  },
  {
   "cell_type": "markdown",
   "metadata": {},
   "source": [
    "## Find the following"
   ]
  },
  {
   "cell_type": "code",
   "execution_count": null,
   "metadata": {},
   "outputs": [],
   "source": [
    "# How many distinct Brands, Locations, Provinces, Asset Types\n",
    "print(\"Number of distinct brands:\", len(df_stores['Brand'].unique()))\n",
    "print(\"Number of distinct locations:\", len(df_stores['Location'].unique().tolist()))\n",
    "print(\"Number of distinct provinces:\", len(df_stores['Province'].unique()))\n",
    "print(\"Number of distinct asset types:\", len(df_stores['Asset Type'].unique()))\n",
    "\n",
    "print('===============================')\n",
    "\n",
    "# What are the names of the distinct Brands and Asset Types\n",
    "print(\"Distinct brands:\", df_stores['Brand'].unique())\n",
    "print(\"Distinct asset types:\", df_stores['Asset Type'].unique().tolist())\n"
   ]
  },
  {
   "cell_type": "markdown",
   "metadata": {},
   "source": [
    "## Using Filters"
   ]
  },
  {
   "cell_type": "code",
   "execution_count": null,
   "metadata": {},
   "outputs": [],
   "source": [
    "# How many stores in China\n",
    "fltr = (df_stores['Location'] == \"China\") & (df_stores['Asset Type'] == 'Store')\n",
    "print (\"Number of stores in China: \", df_stores[fltr]['Location'].count())\n",
    "\n",
    "# How many Factories have more than 500 employees\n",
    "fltr = (df_stores['Asset Type'] == \"Factory\") & (df_stores['Employees'] > 1000) \n",
    "print (\"Number of Factories with more than 500 workers: \", df_stores[fltr]['Location'].count())\n",
    "\n",
    "# List all Asset Types, Cities and Brands for Assets in United States, Vietnam and China\n",
    "cols = ['Asset Type', 'Location','City', 'Brand']\n",
    "fltr = df_stores['Location'].isin([\"United States\", \"Vietnam\", \"China\"]) \n",
    "df_stores[fltr][cols]"
   ]
  },
  {
   "cell_type": "code",
   "execution_count": null,
   "metadata": {},
   "outputs": [],
   "source": [
    "fltr = (df_stores['Asset Type'] == \"Factory\") & (df_stores['Employees'] > 1000) \n",
    "x = df_stores[fltr]['Name']\n",
    "y = df_stores[fltr]['Employees'].sort_values()\n",
    "\n",
    "x"
   ]
  },
  {
   "cell_type": "markdown",
   "metadata": {},
   "source": [
    "## Produce a Simple Bar Chart"
   ]
  },
  {
   "cell_type": "code",
   "execution_count": null,
   "metadata": {},
   "outputs": [],
   "source": [
    "import matplotlib.pyplot as plt\n",
    "\n",
    "# set style, empty figure and axes\n",
    "plt.style.use('fivethirtyeight')\n",
    "fig = plt.figure(figsize=(12,6))\n",
    "ax = fig.add_subplot(111)\n",
    "\n",
    "# Get the Data\n",
    "fltr = (df_stores['Asset Type'] == \"Factory\") & (df_stores['Employees'] > 1000) \n",
    "x = df_stores[fltr]['Name']\n",
    "y = df_stores[fltr]['Employees'].sort_values()\n",
    "\n",
    "# Set some properties\n",
    "ax.set_title(\"Cities with more than 1000 Workers\");\n",
    "ax.set_ylabel(\"Store Name\")\n",
    "ax.set_xlabel(\"Employees\");\n",
    "\n",
    "# Produce a bar chart\n",
    "ax.barh(x, y, align='center')\n",
    "\n",
    "# Dispplay the Bar Chart\n",
    "plt.show()\n",
    "\n",
    "# Save the bar chart\n",
    "fig.savefig(\"./Top Factories.jpg\",bbox_inches = 'tight')"
   ]
  },
  {
   "cell_type": "code",
   "execution_count": null,
   "metadata": {},
   "outputs": [],
   "source": []
  },
  {
   "cell_type": "code",
   "execution_count": null,
   "metadata": {},
   "outputs": [],
   "source": []
  },
  {
   "cell_type": "code",
   "execution_count": null,
   "metadata": {},
   "outputs": [],
   "source": []
  },
  {
   "cell_type": "code",
   "execution_count": null,
   "metadata": {},
   "outputs": [],
   "source": []
  },
  {
   "cell_type": "code",
   "execution_count": null,
   "metadata": {},
   "outputs": [],
   "source": []
  },
  {
   "cell_type": "code",
   "execution_count": null,
   "metadata": {},
   "outputs": [],
   "source": []
  }
 ],
 "metadata": {
  "kernelspec": {
   "display_name": "Python 3 (ipykernel)",
   "language": "python",
   "name": "python3"
  },
  "language_info": {
   "codemirror_mode": {
    "name": "ipython",
    "version": 3
   },
   "file_extension": ".py",
   "mimetype": "text/x-python",
   "name": "python",
   "nbconvert_exporter": "python",
   "pygments_lexer": "ipython3",
   "version": "3.11.5"
  }
 },
 "nbformat": 4,
 "nbformat_minor": 4
}
