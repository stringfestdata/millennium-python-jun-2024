{
 "cells": [
  {
   "cell_type": "markdown",
   "metadata": {},
   "source": [
    "# Import the libraries"
   ]
  },
  {
   "cell_type": "code",
   "execution_count": null,
   "metadata": {},
   "outputs": [],
   "source": [
    "import warnings\n",
    "warnings.filterwarnings(\"ignore\", category=DeprecationWarning) \n",
    "warnings.filterwarnings(\"ignore\", category=FutureWarning) \n",
    "\n",
    "import pandas as pd\n",
    "import numpy as np\n",
    "import matplotlib.pyplot as plt"
   ]
  },
  {
   "cell_type": "markdown",
   "metadata": {},
   "source": [
    "# PART 1\n",
    "\n",
    "## Import the sales and stores files for adidas\n",
    "\n",
    "- Adidas_Sales.csv\n",
    "\n",
    "- Adidas_Stores.csv"
   ]
  },
  {
   "cell_type": "code",
   "execution_count": null,
   "metadata": {},
   "outputs": [],
   "source": [
    "# Load in the entire data set from the Sales file\n",
    "df_sales = pd.read_csv(filepath_or_buffer='../Data/Adidas_Sales.csv')\n",
    "\n",
    "# Load in only a selected subset of columns from the Stores file\n",
    "cols = ['Asset ID', 'Location', 'Province', 'City', 'Asset Type','Employees']\n",
    "df_stores = pd.read_csv(filepath_or_buffer='../Data/Adidas_Stores.csv', index_col='Asset ID', usecols=cols)\n"
   ]
  },
  {
   "cell_type": "markdown",
   "metadata": {},
   "source": [
    "## Merge both datasets into a single dataset"
   ]
  },
  {
   "cell_type": "code",
   "execution_count": null,
   "metadata": {},
   "outputs": [],
   "source": [
    "# Merge the Stores DataFrame into the Reporting DataFrame\n",
    "df_merged = pd.merge(df_stores, df_sales, on='Asset ID', how='outer')\n"
   ]
  },
  {
   "cell_type": "markdown",
   "metadata": {},
   "source": [
    "# Part 2 - Build a multi index\n",
    "\n",
    "Use the columns \n",
    "- Asset ID\n",
    "- Location\n",
    "- Province\n",
    "- Cit\n",
    "- Asset Type\n",
    "- Brand\n",
    "- Financials"
   ]
  },
  {
   "cell_type": "code",
   "execution_count": null,
   "metadata": {},
   "outputs": [],
   "source": [
    "tuples = list(zip(df_merged['Asset ID'],df_merged['Location'], df_merged['Province'],\n",
    "                  df_merged['City'], df_merged['Asset Type'], df_merged['Brand'], df_merged['Financials']))\n",
    "hier_index = pd.MultiIndex.from_tuples(tuples)    \n",
    "\n",
    "# Reset the Index\n",
    "df_merged.reset_index()\n",
    "df_merged.index = hier_index\n",
    "\n",
    "# Drop unwanted columns\n",
    "df_merged.pop('Asset ID')\n",
    "df_merged.pop('Location')\n",
    "df_merged.pop('Province')\n",
    "df_merged.pop('City')\n",
    "df_merged.pop('Asset Type')\n",
    "df_merged.pop('Brand')\n",
    "df_merged.pop('Financials')\n",
    "\n",
    "df_merged.index.names = ['Asset ID','Location', 'Province', 'City', 'Asset Type', 'Brand', 'Financials']\n"
   ]
  },
  {
   "cell_type": "markdown",
   "metadata": {},
   "source": [
    "# Part 3 - Pivot Tables\n",
    "\n",
    "Using the same Multi Index created for part 2, produce pivots for the following\n",
    "\n",
    "1)  Produce pivots for the following\n",
    "    - by Asset ID\n",
    "    - by Location\n",
    "    - by Province\n",
    "    - by City\n",
    "    - by Asset Type\n",
    "    - by Brand\n",
    "    - by Financials\n",
    "\n",
    "2) Create a pivot of the following\n",
    "    - Location, Province, Asset Type\n",
    "    - For each quarter between Mar-16 and Dec-17 (inclusive)"
   ]
  },
  {
   "cell_type": "code",
   "execution_count": null,
   "metadata": {},
   "outputs": [],
   "source": [
    "pd.options.display.float_format = '{:,.0f}'.format\n",
    "cols = df_merged.columns[1:]\n",
    "\n",
    "# by Asset ID\n",
    "df_merged.pivot_table(index='Asset ID')[cols]\n",
    "\n",
    "# by Location\n",
    "df_merged.pivot_table(index='Location')[cols]\n",
    "\n",
    "# by Province\n",
    "df_merged.pivot_table(index='Province')[cols]\n",
    "\n",
    "# by City\n",
    "df_merged.pivot_table(index='City')[cols]\n",
    "\n",
    "# by Asset Type\n",
    "df_merged.pivot_table(index='Asset Type')[cols]\n",
    "\n",
    "# by Brand\n",
    "df_merged.pivot_table(index='Brand')[cols]\n",
    "\n",
    "# by Financials\n",
    "df_merged.pivot_table(index='Financials')[cols]\n",
    "\n",
    "\n",
    "# by Location, Province and Asset Type\n",
    "# For the quarters Mar-16 to Dec-17\n",
    "\n",
    "idx = ['Location', 'Province', 'Asset Type']\n",
    "cols = df_merged.columns[9:17]\n",
    "df_merged.pivot_table(index=idx)[cols]\n"
   ]
  },
  {
   "cell_type": "markdown",
   "metadata": {},
   "source": [
    "# Part 4 - Group By\n",
    "\n",
    "Using the same Multi Index created for part 2, use the pandas.groupby method to produce groups of the following\n",
    "\n",
    "1) The sum of all Financials for each Location for the quarters Mar-16 through to Dec-17 inclusive\n",
    "\n",
    "2) The total number of employees for the entire enterprise grouped by Lcoation, Brand and City \n",
    "\n"
   ]
  },
  {
   "cell_type": "code",
   "execution_count": null,
   "metadata": {
    "scrolled": true
   },
   "outputs": [],
   "source": [
    "df_merged.groupby(level=['Location', 'Financials']).sum().loc[:,'Mar-16':'Dec-17']\n"
   ]
  },
  {
   "cell_type": "code",
   "execution_count": null,
   "metadata": {},
   "outputs": [],
   "source": [
    "grps = ['Location', 'Brand','City']\n",
    "\n",
    "\n",
    "df_merged['Employees'].groupby(by=grps).sum()\n"
   ]
  },
  {
   "cell_type": "markdown",
   "metadata": {},
   "source": [
    "# Part 5 - Cross Sections\n",
    "\n",
    "Use the pandas.xs method to produce the following cross sections\n",
    "\n",
    "1) Total quarterly Financials for the USA for the year 2018\n",
    "\n",
    "2) Total quarterly Operating Income for each country for the year 2017"
   ]
  },
  {
   "cell_type": "code",
   "execution_count": null,
   "metadata": {},
   "outputs": [],
   "source": [
    "# the total Financials for the United States for the year 2018\n",
    "df_merged.xs(key='United States', level='Location', drop_level=False).loc[:,'Mar-18' : 'Dec-18'].groupby(level=['Location', 'Financials']).sum()\n"
   ]
  },
  {
   "cell_type": "code",
   "execution_count": null,
   "metadata": {
    "scrolled": true
   },
   "outputs": [],
   "source": [
    "# The operating income for all countries\n",
    "df_merged.xs(key='Operating Income', level='Financials', drop_level=False).loc[:,'Mar-17' : 'Dec-17'].groupby(level=['Location', 'Financials']).sum()\n"
   ]
  },
  {
   "cell_type": "code",
   "execution_count": null,
   "metadata": {},
   "outputs": [],
   "source": []
  },
  {
   "cell_type": "code",
   "execution_count": null,
   "metadata": {},
   "outputs": [],
   "source": []
  },
  {
   "cell_type": "code",
   "execution_count": null,
   "metadata": {},
   "outputs": [],
   "source": []
  },
  {
   "cell_type": "code",
   "execution_count": null,
   "metadata": {},
   "outputs": [],
   "source": []
  },
  {
   "cell_type": "code",
   "execution_count": null,
   "metadata": {},
   "outputs": [],
   "source": []
  },
  {
   "cell_type": "code",
   "execution_count": null,
   "metadata": {},
   "outputs": [],
   "source": []
  }
 ],
 "metadata": {
  "kernelspec": {
   "display_name": "Python 3 (ipykernel)",
   "language": "python",
   "name": "python3"
  },
  "language_info": {
   "codemirror_mode": {
    "name": "ipython",
    "version": 3
   },
   "file_extension": ".py",
   "mimetype": "text/x-python",
   "name": "python",
   "nbconvert_exporter": "python",
   "pygments_lexer": "ipython3",
   "version": "3.11.5"
  }
 },
 "nbformat": 4,
 "nbformat_minor": 4
}
