{
 "cells": [
  {
   "cell_type": "markdown",
   "metadata": {},
   "source": [
    "# Regression\n",
    "\n",
    "> Model based learning using Linear Regression\n",
    "\n",
    "> Instance based learning using k-Nearest Neighbours"
   ]
  },
  {
   "cell_type": "markdown",
   "metadata": {},
   "source": [
    "# 1) Linear Regression"
   ]
  },
  {
   "cell_type": "markdown",
   "metadata": {},
   "source": [
    "## 1.1) Import the libraries"
   ]
  },
  {
   "cell_type": "code",
   "execution_count": null,
   "metadata": {},
   "outputs": [],
   "source": [
    "import pandas as pd\n",
    "\n",
    "import sklearn.linear_model\n"
   ]
  },
  {
   "cell_type": "markdown",
   "metadata": {},
   "source": [
    "## 1.2) Import the data\n"
   ]
  },
  {
   "cell_type": "code",
   "execution_count": null,
   "metadata": {},
   "outputs": [],
   "source": [
    "df_happiness = pd.read_csv(filepath_or_buffer='../Data/life_satisfaction.csv', index_col='Country')\n"
   ]
  },
  {
   "cell_type": "code",
   "execution_count": null,
   "metadata": {},
   "outputs": [],
   "source": [
    "df_happiness"
   ]
  },
  {
   "cell_type": "markdown",
   "metadata": {},
   "source": [
    "## 1.3) Prepare the Model\n",
    "\n",
    "Quite a few ways to achieve this. Here I am using a 2D slice into the DataFrame.<br>\n",
    "> `[row_slice, column_slice]`\n",
    "<br>\n",
    "\n",
    "**Note the naming convention**<br>\n",
    "> **X** (upper) as this is usually a Matrix (2 Dimensions)\n",
    ">\n",
    "> **y** (lower case) - usually a vector (1 Dimension)"
   ]
  },
  {
   "cell_type": "code",
   "execution_count": null,
   "metadata": {},
   "outputs": [],
   "source": [
    "type(df_happiness[ 'Life satisfaction'].values)"
   ]
  },
  {
   "cell_type": "code",
   "execution_count": null,
   "metadata": {},
   "outputs": [],
   "source": [
    "# Prepare the data\n",
    "X = df_happiness.iloc[:, :-1].values\n",
    "y = df_happiness.iloc[:, -1:].values\n"
   ]
  },
  {
   "cell_type": "markdown",
   "metadata": {},
   "source": [
    "## 1.4) Select and Train the Model\n",
    "\n",
    "Choose a Linear Regression as the model"
   ]
  },
  {
   "cell_type": "code",
   "execution_count": null,
   "metadata": {},
   "outputs": [],
   "source": [
    "# Select a linear model\n",
    "model = sklearn.linear_model.LinearRegression()\n",
    "\n",
    "# Train the model\n",
    "model.fit(X, y)"
   ]
  },
  {
   "cell_type": "markdown",
   "metadata": {},
   "source": [
    "## 1.5) Make a prediction"
   ]
  },
  {
   "cell_type": "code",
   "execution_count": null,
   "metadata": {},
   "outputs": [],
   "source": [
    "df_gdp = pd.read_csv(filepath_or_buffer = \"../Data/gdp.csv\", index_col='Country')\n",
    "\n",
    "gdp = df_gdp.loc['Ireland']\n",
    "\n",
    "pred = model.predict([gdp])\n",
    "\n",
    "print(pred[0])"
   ]
  },
  {
   "cell_type": "markdown",
   "metadata": {},
   "source": [
    "## 1.6) All code in a single cell"
   ]
  },
  {
   "cell_type": "code",
   "execution_count": null,
   "metadata": {},
   "outputs": [],
   "source": [
    "# Import python packages\n",
    "import pandas as pd\n",
    "import sklearn.linear_model\n",
    "\n",
    "# Import the data\n",
    "df_happiness = pd.read_csv(filepath_or_buffer='../Data/life_satisfaction.csv', index_col='Country')\n",
    "\n",
    "# Prepare the data\n",
    "X = df_happiness.iloc[:, :-1].values\n",
    "y = df_happiness.iloc[:, -1:].values\n",
    "\n",
    "# Select a linear model\n",
    "model = sklearn.linear_model.LinearRegression()\n",
    "\n",
    "# Train the model\n",
    "model.fit(X, y)\n",
    "\n",
    "# Make a prediction\n",
    "df_gdp = pd.read_csv(filepath_or_buffer = \"../Data/gdp.csv\", index_col='Country')\n",
    "gdp_cyprus = df_gdp.loc['Cyprus']\n",
    "pred = model.predict([gdp_cyprus])\n",
    "print(pred[0])"
   ]
  },
  {
   "cell_type": "markdown",
   "metadata": {},
   "source": [
    "# 2) k-Nearest Neighbours"
   ]
  },
  {
   "cell_type": "markdown",
   "metadata": {},
   "source": [
    "## 2.1) Import the libraries"
   ]
  },
  {
   "cell_type": "code",
   "execution_count": null,
   "metadata": {},
   "outputs": [],
   "source": [
    "import pandas as pd\n",
    "\n",
    "import sklearn.neighbors"
   ]
  },
  {
   "cell_type": "markdown",
   "metadata": {},
   "source": [
    "## 2.2) Import the Data"
   ]
  },
  {
   "cell_type": "code",
   "execution_count": null,
   "metadata": {},
   "outputs": [],
   "source": [
    "df_happiness = pd.read_csv(filepath_or_buffer='../Data/life_satisfaction.csv', index_col='Country')\n"
   ]
  },
  {
   "cell_type": "markdown",
   "metadata": {},
   "source": [
    "## 2.3) Prepare the Model\n",
    "\n",
    "Quite a few ways to achieve this. Here I am using a 2D slice into the DataFrame.<br>\n",
    "> `[row_slice, column_slice]`\n",
    "<br>\n",
    "\n",
    "**Note the naming convention**<br>\n",
    "> **X** (upper) as this is usually a Matrix (2 Dimensions)\n",
    ">\n",
    "> **y** (lower case) - usually a vector (1 Dimension)"
   ]
  },
  {
   "cell_type": "code",
   "execution_count": null,
   "metadata": {},
   "outputs": [],
   "source": [
    "# Prepare the data\n",
    "X = df_happiness.iloc[:, :-1].values\n",
    "y = df_happiness.iloc[:, -1:].values\n"
   ]
  },
  {
   "cell_type": "markdown",
   "metadata": {},
   "source": [
    "## 2.4) Select and Train the Model"
   ]
  },
  {
   "cell_type": "code",
   "execution_count": null,
   "metadata": {},
   "outputs": [],
   "source": [
    "# Select a linear model\n",
    "model = sklearn.neighbors.KNeighborsRegressor(n_neighbors=3)\n",
    "\n",
    "# Train the model\n",
    "model.fit(X, y)"
   ]
  },
  {
   "cell_type": "markdown",
   "metadata": {},
   "source": [
    "## 2.5) Make a prediction"
   ]
  },
  {
   "cell_type": "code",
   "execution_count": null,
   "metadata": {},
   "outputs": [],
   "source": [
    "df_gdp = pd.read_csv(filepath_or_buffer = \"../Data/gdp.csv\", index_col='Country')\n",
    "\n",
    "gdp = df_gdp.loc['Ireland']\n",
    "\n",
    "pred = model.predict([gdp])\n",
    "\n",
    "print(pred[0])"
   ]
  },
  {
   "cell_type": "markdown",
   "metadata": {},
   "source": [
    "## 2.6) All code in a single cell"
   ]
  },
  {
   "cell_type": "code",
   "execution_count": null,
   "metadata": {},
   "outputs": [],
   "source": [
    "# Import python packages\n",
    "import pandas as pd\n",
    "import sklearn.neighbors\n",
    "\n",
    "# Import the data\n",
    "df_happiness = pd.read_csv(filepath_or_buffer='../Data/life_satisfaction.csv', index_col='Country')\n",
    "\n",
    "# Prepare the data\n",
    "X = df_happiness.iloc[:, :-1].values\n",
    "y = df_happiness.iloc[:, -1:].values\n",
    "\n",
    "# Select a linear model\n",
    "model = sklearn.neighbors.KNeighborsRegressor(n_neighbors=3)\n",
    "\n",
    "# Train the model\n",
    "model.fit(X, y)\n",
    "\n",
    "# Make a prediction\n",
    "df_gdp = pd.read_csv(filepath_or_buffer = \"../Data/gdp.csv\", index_col='Country')\n",
    "gdp_cyprus = df_gdp.loc['Cyprus']\n",
    "pred = model.predict([gdp_cyprus])\n",
    "print(pred[0])"
   ]
  },
  {
   "cell_type": "code",
   "execution_count": null,
   "metadata": {},
   "outputs": [],
   "source": []
  },
  {
   "cell_type": "code",
   "execution_count": null,
   "metadata": {},
   "outputs": [],
   "source": []
  },
  {
   "cell_type": "code",
   "execution_count": null,
   "metadata": {},
   "outputs": [],
   "source": []
  }
 ],
 "metadata": {
  "kernelspec": {
   "display_name": "Python 3 (ipykernel)",
   "language": "python",
   "name": "python3"
  },
  "language_info": {
   "codemirror_mode": {
    "name": "ipython",
    "version": 3
   },
   "file_extension": ".py",
   "mimetype": "text/x-python",
   "name": "python",
   "nbconvert_exporter": "python",
   "pygments_lexer": "ipython3",
   "version": "3.9.13"
  }
 },
 "nbformat": 4,
 "nbformat_minor": 4
}
