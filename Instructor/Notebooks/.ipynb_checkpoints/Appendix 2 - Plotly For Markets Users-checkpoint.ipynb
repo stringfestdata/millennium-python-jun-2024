{
 "cells": [
  {
   "cell_type": "markdown",
   "id": "f4f2393d",
   "metadata": {
    "tags": []
   },
   "source": [
    "# Introduction\n",
    "\n",
    "Yahoo Finance offers a range of market data on stocks, bonds, currencies, and cryptocurrencies. \n",
    "\n",
    "It also provides news reports with various insights into different markets from around the world \n",
    "\n",
    "All accessible through the `yfinance` python library.\n",
    "\n",
    "Needs to install it using pip\n",
    "\n",
    "`pip install yfinance`\n",
    "\n",
    "For the python programmer\n",
    "\n",
    "- its Free \n",
    "- does not require registration / authentication\n",
    "- downloads data into `pandas.DataFrames` and `pandas.Series`"
   ]
  },
  {
   "cell_type": "markdown",
   "id": "28724661",
   "metadata": {},
   "source": [
    "# Import Packages"
   ]
  },
  {
   "cell_type": "code",
   "execution_count": null,
   "id": "815452d4",
   "metadata": {},
   "outputs": [],
   "source": [
    "import yfinance as yf\n",
    "import pandas as pd\n",
    "\n",
    "pd.options.display.float_format = '{:,.2f}'.format\n",
    "\n",
    "import warnings\n",
    "warnings.filterwarnings(\"ignore\", category=DeprecationWarning) \n",
    "warnings.filterwarnings(\"ignore\", category=FutureWarning) \n"
   ]
  },
  {
   "cell_type": "markdown",
   "id": "03c01c25",
   "metadata": {},
   "source": [
    "# Download Historical Prices"
   ]
  },
  {
   "cell_type": "markdown",
   "id": "f1cd41a3",
   "metadata": {},
   "source": [
    "## Create a Ticker"
   ]
  },
  {
   "cell_type": "code",
   "execution_count": null,
   "id": "cc11453d",
   "metadata": {},
   "outputs": [],
   "source": [
    "ticker = yf.Ticker('tsla')\n",
    "ticker"
   ]
  },
  {
   "cell_type": "markdown",
   "id": "6e4eb8fc",
   "metadata": {},
   "source": [
    "## Download History\n",
    "\n",
    "Default is 1 month of daily prices"
   ]
  },
  {
   "cell_type": "code",
   "execution_count": null,
   "id": "62412443",
   "metadata": {},
   "outputs": [],
   "source": [
    "df = ticker.history()\n",
    "\n",
    "# Show first 5 and last 5\n",
    "pd.concat(objs=[df.head(), df.tail()])"
   ]
  },
  {
   "cell_type": "markdown",
   "id": "de4f3320",
   "metadata": {},
   "source": [
    "## Change Date Range\n",
    "\n"
   ]
  },
  {
   "cell_type": "code",
   "execution_count": null,
   "id": "b4359694",
   "metadata": {},
   "outputs": [],
   "source": [
    "df = ticker.history(start='2018-01-03', end='2022-01-10')\n",
    "\n",
    "# Show first 5 and last 5\n",
    "pd.concat(objs=[df.head(), df.tail()])"
   ]
  },
  {
   "cell_type": "markdown",
   "id": "cae89bde",
   "metadata": {},
   "source": [
    "## Download For Multiple Stocks\n",
    "\n",
    "Use the free function `yf.download()`"
   ]
  },
  {
   "cell_type": "code",
   "execution_count": null,
   "id": "30e8bae3",
   "metadata": {},
   "outputs": [],
   "source": [
    "stocks = ['MSFT','AAPL']\n",
    "df = yf.download(tickers=stocks, start='2018-01-01')\n",
    "\n",
    "pd.concat(objs=[df.head(), df.tail()])"
   ]
  },
  {
   "cell_type": "markdown",
   "id": "10cceb91",
   "metadata": {},
   "source": [
    "## Download Selected Columns"
   ]
  },
  {
   "cell_type": "code",
   "execution_count": null,
   "id": "baecb0af",
   "metadata": {},
   "outputs": [],
   "source": [
    "stocks = ['MSFT','AAPL']\n",
    "cols = ['Adj Close','Volume']\n",
    "\n",
    "df = yf.download(tickers=stocks, start='2018-01-01')[cols]\n",
    "\n",
    "pd.concat(objs=[df.head(), df.tail()])"
   ]
  },
  {
   "cell_type": "markdown",
   "id": "9f46445c",
   "metadata": {},
   "source": [
    "## Download and Group"
   ]
  },
  {
   "cell_type": "code",
   "execution_count": null,
   "id": "94b5a0e6",
   "metadata": {},
   "outputs": [],
   "source": [
    "faang = ['META','AAPL','AMZN','NFLX','GOOGL']\n",
    "\n",
    "df = yf.download(tickers=faang, start='2018-01-01', group_by='ticker')\n",
    "\n",
    "pd.concat(objs=[df.head(), df.tail()])"
   ]
  },
  {
   "cell_type": "markdown",
   "id": "2b539cbf",
   "metadata": {},
   "source": [
    "# Options\n",
    "\n",
    "To download options data, you'll need to use the `Ticker.options` and `Ticker.option_chain` methods.\n",
    "\n"
   ]
  },
  {
   "cell_type": "code",
   "execution_count": null,
   "id": "0139085b",
   "metadata": {},
   "outputs": [],
   "source": [
    "aapl = yf.Ticker('aapl')\n",
    "aapl\n"
   ]
  },
  {
   "cell_type": "code",
   "execution_count": null,
   "id": "a6ac80ae",
   "metadata": {},
   "outputs": [],
   "source": [
    "options = aapl.option_chain()\n"
   ]
  },
  {
   "cell_type": "code",
   "execution_count": null,
   "id": "b5da185d",
   "metadata": {},
   "outputs": [],
   "source": [
    "calls = options.calls\n",
    "calls"
   ]
  },
  {
   "cell_type": "code",
   "execution_count": null,
   "id": "36f36723",
   "metadata": {},
   "outputs": [],
   "source": [
    "puts = options.puts\n",
    "puts\n"
   ]
  },
  {
   "cell_type": "markdown",
   "id": "49c13ffe",
   "metadata": {},
   "source": [
    "# Institutional Holders"
   ]
  },
  {
   "cell_type": "code",
   "execution_count": null,
   "id": "ef47fea5",
   "metadata": {},
   "outputs": [],
   "source": [
    "aapl.institutional_holders\n"
   ]
  },
  {
   "cell_type": "markdown",
   "id": "c0dc99e2",
   "metadata": {},
   "source": [
    "# Market Data"
   ]
  },
  {
   "cell_type": "markdown",
   "id": "3df78dfa",
   "metadata": {},
   "source": [
    "## Import Packages"
   ]
  },
  {
   "cell_type": "code",
   "execution_count": null,
   "id": "2f0a60f2",
   "metadata": {},
   "outputs": [],
   "source": [
    "# For plotly\n",
    "import plotly as py\n",
    "import plotly.io as pio\n",
    "import plotly.graph_objects as go\n",
    "import plotly.express as px\n",
    "from plotly.subplots import make_subplots\n",
    "from plotly.offline import download_plotlyjs, init_notebook_mode, plot, iplot"
   ]
  },
  {
   "cell_type": "markdown",
   "id": "ebfdaa60",
   "metadata": {
    "tags": []
   },
   "source": [
    "# Download Market Data"
   ]
  },
  {
   "cell_type": "code",
   "execution_count": null,
   "id": "4c8e4cc0",
   "metadata": {},
   "outputs": [],
   "source": [
    "df = yf.download(tickers='TSLA')\n",
    "\n",
    "pd.concat(objs=[df.head(), df.tail()])"
   ]
  },
  {
   "cell_type": "markdown",
   "id": "605478f4",
   "metadata": {},
   "source": [
    "# Time Series"
   ]
  },
  {
   "cell_type": "markdown",
   "id": "444c206c",
   "metadata": {},
   "source": [
    "## Simple Line Chart"
   ]
  },
  {
   "cell_type": "code",
   "execution_count": null,
   "id": "b8b42e87",
   "metadata": {},
   "outputs": [],
   "source": [
    "fig = px.line(data_frame=df, x=df.index, y='Adj Close', title='TSLA Adj Close')\n",
    "\n",
    "fig.update_layout(title=dict(x=0.5,y=0.95))\n",
    "\n",
    "fig.show();"
   ]
  },
  {
   "cell_type": "markdown",
   "id": "83e0ad0c",
   "metadata": {},
   "source": [
    "## Line Chart with Range Slider"
   ]
  },
  {
   "cell_type": "code",
   "execution_count": null,
   "id": "d8a0c8d7",
   "metadata": {},
   "outputs": [],
   "source": [
    "fig = px.line(data_frame=df, x=df.index, y='Adj Close', title='TSLA Adj Close')\n",
    "\n",
    "fig.update_layout(title=dict(x=0.5,y=0.95), xaxis_rangeslider_visible=True)\n",
    "\n",
    "fig.show();"
   ]
  },
  {
   "cell_type": "markdown",
   "id": "f18a3275",
   "metadata": {},
   "source": [
    "## Line Chart with Calibrated Range Slider"
   ]
  },
  {
   "cell_type": "markdown",
   "id": "75b116e5",
   "metadata": {},
   "source": [
    "### Set some properties"
   ]
  },
  {
   "cell_type": "code",
   "execution_count": null,
   "id": "f5f4c3b4",
   "metadata": {},
   "outputs": [],
   "source": [
    "buttons = [\n",
    "    dict(count=1, label=\"1m\", step=\"month\", stepmode=\"backward\"),\n",
    "    dict(count=6, label=\"6m\", step=\"month\", stepmode=\"backward\"),\n",
    "    dict(count=1, label=\"YTD\", step=\"year\", stepmode=\"todate\"),\n",
    "    dict(count=1, label=\"1y\", step=\"year\", stepmode=\"backward\"),\n",
    "    dict(step=\"all\")\n",
    "]\n",
    "\n",
    "rangeselector = dict(buttons=buttons)\n"
   ]
  },
  {
   "cell_type": "markdown",
   "id": "10b4d0ba",
   "metadata": {},
   "source": [
    "### Plot"
   ]
  },
  {
   "cell_type": "code",
   "execution_count": null,
   "id": "651e34eb",
   "metadata": {},
   "outputs": [],
   "source": [
    "fig = px.line(data_frame=df, x=df.index, y='Adj Close', title='TSLA Adj Close')\n",
    "\n",
    "fig.update_xaxes(rangeslider_visible=True, rangeselector=dict(buttons=buttons))\n",
    "\n",
    "fig.update_layout(title=dict(x=0.5,y=0.95))\n",
    "\n",
    "fig.show();"
   ]
  },
  {
   "cell_type": "markdown",
   "id": "dbd918ca",
   "metadata": {},
   "source": [
    "## Bar Chart"
   ]
  },
  {
   "cell_type": "code",
   "execution_count": null,
   "id": "79c31f25",
   "metadata": {},
   "outputs": [],
   "source": [
    "fig = go.Figure()\n",
    "\n",
    "fig = px.bar(data_frame=df, x=df.index, y='Volume', title='TSLA Adj Close')\n",
    "\n",
    "fig.update_xaxes(rangeslider_visible=True, rangeselector=dict(buttons=buttons))\n",
    "\n",
    "fig.update_layout(title=dict(x=0.5,y=0.95))\n",
    "\n",
    "fig.show();"
   ]
  },
  {
   "cell_type": "markdown",
   "id": "61546b6c",
   "metadata": {},
   "source": [
    "## Candlesticks\n",
    "\n",
    "At the time of preparing this the candlesticks had not been mingrated from graph objects to plotly express\n",
    "\n",
    "So a little wrangling of the data is required"
   ]
  },
  {
   "cell_type": "code",
   "execution_count": null,
   "id": "086a27e5",
   "metadata": {},
   "outputs": [],
   "source": [
    "df_candles = df.reset_index()"
   ]
  },
  {
   "cell_type": "code",
   "execution_count": null,
   "id": "0d13d0ce",
   "metadata": {},
   "outputs": [],
   "source": [
    "candle = go.Candlestick(x=df_candles['Date'], open=df_candles['Open'], high=df_candles['High'], low=df_candles['Low'], close=df_candles['Adj Close'])\n",
    "\n",
    "fig = go.Figure(data=[candle])\n",
    "\n",
    "fig.update_xaxes(rangeslider_visible=True, rangeselector=dict(buttons=buttons))\n",
    "\n",
    "fig.update_layout(title=dict(x=0.5,y=0.95))\n",
    "\n",
    "fig.show();"
   ]
  },
  {
   "cell_type": "markdown",
   "id": "a7db9add",
   "metadata": {},
   "source": [
    "## Increasing and Decreasing colours"
   ]
  },
  {
   "cell_type": "code",
   "execution_count": null,
   "id": "f1468613",
   "metadata": {},
   "outputs": [],
   "source": [
    "candle = go.Candlestick(x=df_candles['Date'], open=df_candles['Open'], high=df_candles['High'], low=df_candles['Low'], close=df_candles['Adj Close'],\n",
    "                       increasing_line_color= 'yellow', decreasing_line_color= 'black')\n",
    "\n",
    "fig = go.Figure(data=[candle])\n",
    "\n",
    "fig.update_xaxes(rangeslider_visible=True, rangeselector=dict(buttons=buttons))\n",
    "\n",
    "fig.update_layout(title=dict(x=0.5,y=0.95))\n",
    "\n",
    "fig.show();"
   ]
  },
  {
   "cell_type": "markdown",
   "id": "184dc24e",
   "metadata": {},
   "source": [
    "## OHLC"
   ]
  },
  {
   "cell_type": "code",
   "execution_count": null,
   "id": "730a88c5",
   "metadata": {},
   "outputs": [],
   "source": [
    "fig = make_subplots(rows=2, cols=1)\n",
    "\n",
    "#OHLC Plot\n",
    "ohlc_trace = go.Ohlc(x=df_candles['Date'], open=df_candles['Open'], high=df_candles['High'], low=df_candles['Low'], close=df_candles['Adj Close'], name='Price')\n",
    "fig.add_trace(trace=ohlc_trace, row=1, col=1)\n",
    "\n",
    "#Volume PLot\n",
    "vol_trace = go.Scatter(x=df_candles.Date, y=df.Volume, name='Volume')\n",
    "fig.add_trace(trace=vol_trace, row=2, col=1)\n",
    "\n",
    "fig.update(layout_xaxis_rangeslider_visible=False)\n",
    "fig.show()\n"
   ]
  },
  {
   "cell_type": "markdown",
   "id": "2adf52bf",
   "metadata": {},
   "source": [
    "# Annotations\n",
    "\n",
    "For example ot show a boom, a recession or an unusual event"
   ]
  },
  {
   "cell_type": "code",
   "execution_count": null,
   "id": "1465280b",
   "metadata": {},
   "outputs": [],
   "source": [
    "fig = make_subplots(rows=2, cols=1)\n",
    "\n",
    "#OHLC Plot\n",
    "fig.add_trace(go.Ohlc(x=df_candles['Date'], open=df_candles['Open'], high=df_candles['High'], low=df_candles['Low'], close=df_candles['Adj Close'], \n",
    "                      name='Price'), row=1, col=1)\n",
    "\n",
    "#Volume PLot\n",
    "fig.add_trace(go.Scatter(x=df_candles.Date, y=df.Volume, name='Volume'), row=2, col=1)\n",
    "fig.update(layout_xaxis_rangeslider_visible=False)\n",
    "\n",
    "# Annotate\n",
    "fig.update_layout(\n",
    "    title='The BOOM',\n",
    "    yaxis_title='TSLA Stock',\n",
    "    shapes = [dict(x0='2019-10-10', x1='2019-10-10', y0=0, y1=1, xref='x', yref='paper',line_width=3)],\n",
    "    annotations=[dict(x='2019-10-10', y=1, xref='x', yref='paper', xanchor='left', text='The Boom in TSLA Stock')]\n",
    ")\n",
    "\n",
    "fig.show()"
   ]
  },
  {
   "cell_type": "markdown",
   "id": "4c88b8fc",
   "metadata": {},
   "source": [
    "# Technical Indicators\n",
    "\n",
    "Indicators are best way to visualize a stock pattern. There are a few common ones to get a basic idea of the trend of the stock. \n",
    "\n",
    "- Simple Moving Average (SMA): Average of the price of stock for a set period of time, in our case we have used a simple moving average of 5,10,15 and 30 days.\n",
    "\n",
    "- Exponential Moving Average (EMA): An exponential moving average (EMA) is a type of moving average (MA) that places a greater weight and significance on the most recent data points, basically what it means is that the newer stock price data has a higher weightage/significance on the price than older days.\n",
    "\n",
    "- Relative Strength Index (RSI): A momentum indicator used in technical analysis that measures the magnitude of recent price changes to evaluate overbought or oversold conditions in the price of a stock.\n",
    "\n",
    "- Moving average convergence divergence (MACD) is a trend-following momentum indicator that shows the relationship between two moving averages of a security’s price. The MACD is calculated by subtracting the 26-period exponential moving average (EMA) from the 12-period EMA. Similar to RSI, MACD triggers technical signals when it crosses above (to buy) or below (to sell) its signal line."
   ]
  },
  {
   "cell_type": "markdown",
   "id": "3112ebcb",
   "metadata": {},
   "source": [
    "## Simple Moving Average"
   ]
  },
  {
   "cell_type": "code",
   "execution_count": null,
   "id": "051d6310",
   "metadata": {},
   "outputs": [],
   "source": [
    "df['SMA_5'] = df['Adj Close'].rolling(5).mean().shift()\n",
    "df['SMA_10'] = df['Adj Close'].rolling(10).mean().shift()\n",
    "df['SMA_15'] = df['Adj Close'].rolling(15).mean().shift()\n",
    "df['SMA_30'] = df['Adj Close'].rolling(30).mean().shift()"
   ]
  },
  {
   "cell_type": "markdown",
   "id": "86fdb24f",
   "metadata": {},
   "source": [
    "## Exponentially Weighted Moving Average"
   ]
  },
  {
   "cell_type": "code",
   "execution_count": null,
   "id": "365ab4ef",
   "metadata": {},
   "outputs": [],
   "source": [
    "df['EMA_9'] = df['Adj Close'].ewm(9).mean().shift()\n",
    "df['EMA_22'] = df['Adj Close'].ewm(22).mean().shift()"
   ]
  },
  {
   "cell_type": "markdown",
   "id": "c72f59b7",
   "metadata": {},
   "source": [
    "## Relative Strength Index"
   ]
  },
  {
   "cell_type": "code",
   "execution_count": null,
   "id": "79813e84",
   "metadata": {},
   "outputs": [],
   "source": [
    "def RSI(df, n=14):\n",
    "    close = df['Adj Close']\n",
    "    delta = close.diff()\n",
    "    delta = delta[1:]\n",
    "    pricesUp = delta.copy()\n",
    "    pricesDown = delta.copy()\n",
    "    pricesUp[pricesUp < 0] = 0\n",
    "    pricesDown[pricesDown > 0] = 0\n",
    "    rollUp = pricesUp.rolling(n).mean()\n",
    "    rollDown = pricesDown.abs().rolling(n).mean()\n",
    "    rs = rollUp / rollDown\n",
    "    rsi = 100.0 - (100.0 / (1.0 + rs))\n",
    "    return rsi\n",
    "\n",
    "df['RSI'] = RSI(df).fillna(0)"
   ]
  },
  {
   "cell_type": "markdown",
   "id": "c5cad5a7",
   "metadata": {},
   "source": [
    "## MACD"
   ]
  },
  {
   "cell_type": "code",
   "execution_count": null,
   "id": "365c370d",
   "metadata": {},
   "outputs": [],
   "source": [
    "EMA_12 = pd.Series(df['Adj Close'].ewm(span=12, min_periods=12).mean())\n",
    "EMA_26 = pd.Series(df['Adj Close'].ewm(span=26, min_periods=26).mean())\n",
    "\n",
    "df['MACD'] = pd.Series(EMA_12 - EMA_26)\n",
    "df['MACD_signal'] = pd.Series(df.MACD.ewm(span=9, min_periods=9).mean())"
   ]
  },
  {
   "cell_type": "markdown",
   "id": "2814154f",
   "metadata": {},
   "source": [
    "## Plot"
   ]
  },
  {
   "cell_type": "markdown",
   "id": "a91d6791",
   "metadata": {},
   "source": [
    "### Movign Averages"
   ]
  },
  {
   "cell_type": "code",
   "execution_count": null,
   "id": "12ebac42",
   "metadata": {},
   "outputs": [],
   "source": [
    "y_values = ['EMA_9','EMA_22','SMA_5','SMA_10','SMA_15','SMA_30']\n",
    "\n",
    "fig = px.line(df, x=df.index, y=y_values,title='TSLA Moving Averages')\n",
    "\n",
    "fig.update_layout(title=dict(x=0.5,y=0.95),  xaxis_rangeslider_visible=True)\n",
    "\n",
    "fig.show();"
   ]
  },
  {
   "cell_type": "markdown",
   "id": "8ca6f648",
   "metadata": {},
   "source": [
    "### RSI"
   ]
  },
  {
   "cell_type": "code",
   "execution_count": null,
   "id": "74082979",
   "metadata": {},
   "outputs": [],
   "source": [
    "y_values = ['RSI']\n",
    "\n",
    "fig = px.line(df, x=df.index, y=y_values,title='TSLA RSI')\n",
    "\n",
    "fig.update_layout(title=dict(x=0.5,y=0.95),  xaxis_rangeslider_visible=True)\n",
    "\n",
    "fig.show();"
   ]
  },
  {
   "cell_type": "markdown",
   "id": "6daabfc2",
   "metadata": {},
   "source": [
    "### MACD Signal Line"
   ]
  },
  {
   "cell_type": "code",
   "execution_count": null,
   "id": "473849e5",
   "metadata": {},
   "outputs": [],
   "source": [
    "y_values = ['MACD', 'MACD_signal']\n",
    "\n",
    "fig = px.line(df, x=df.index, y=y_values,title='TSLA MACD & Signal')\n",
    "\n",
    "fig.update_layout(title=dict(x=0.5,y=0.95),  xaxis_rangeslider_visible=True)\n",
    "\n",
    "fig.show();"
   ]
  },
  {
   "cell_type": "code",
   "execution_count": null,
   "id": "db8dc5c8",
   "metadata": {},
   "outputs": [],
   "source": []
  },
  {
   "cell_type": "code",
   "execution_count": null,
   "id": "234e0683",
   "metadata": {},
   "outputs": [],
   "source": []
  },
  {
   "cell_type": "code",
   "execution_count": null,
   "id": "4a7b9b96",
   "metadata": {},
   "outputs": [],
   "source": []
  },
  {
   "cell_type": "code",
   "execution_count": null,
   "id": "0df67eb7",
   "metadata": {},
   "outputs": [],
   "source": []
  },
  {
   "cell_type": "code",
   "execution_count": null,
   "id": "a0958e6b",
   "metadata": {},
   "outputs": [],
   "source": []
  },
  {
   "cell_type": "code",
   "execution_count": null,
   "id": "09cddd04",
   "metadata": {},
   "outputs": [],
   "source": []
  },
  {
   "cell_type": "code",
   "execution_count": null,
   "id": "cc2cdf98-c97f-406a-b676-a1754e7dece8",
   "metadata": {},
   "outputs": [],
   "source": []
  },
  {
   "cell_type": "code",
   "execution_count": null,
   "id": "598598cf-b237-4ce4-b51f-af48a4e579b0",
   "metadata": {},
   "outputs": [],
   "source": []
  },
  {
   "cell_type": "code",
   "execution_count": null,
   "id": "ee1ab4f2-84bc-445e-a739-7e9a52269d79",
   "metadata": {},
   "outputs": [],
   "source": []
  },
  {
   "cell_type": "code",
   "execution_count": null,
   "id": "d82dc822-a249-403a-9a3f-ff4e4ca91057",
   "metadata": {},
   "outputs": [],
   "source": []
  },
  {
   "cell_type": "code",
   "execution_count": null,
   "id": "78467d23-5770-45b8-a40d-2f682410b140",
   "metadata": {},
   "outputs": [],
   "source": []
  }
 ],
 "metadata": {
  "kernelspec": {
   "display_name": "Python 3 (ipykernel)",
   "language": "python",
   "name": "python3"
  },
  "language_info": {
   "codemirror_mode": {
    "name": "ipython",
    "version": 3
   },
   "file_extension": ".py",
   "mimetype": "text/x-python",
   "name": "python",
   "nbconvert_exporter": "python",
   "pygments_lexer": "ipython3",
   "version": "3.11.5"
  }
 },
 "nbformat": 4,
 "nbformat_minor": 5
}
