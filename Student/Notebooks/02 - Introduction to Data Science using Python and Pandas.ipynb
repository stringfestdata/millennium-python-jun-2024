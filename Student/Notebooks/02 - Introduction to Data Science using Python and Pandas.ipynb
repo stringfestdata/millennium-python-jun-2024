{
 "cells": [
  {
   "cell_type": "markdown",
   "metadata": {},
   "source": [
    "# Synopsis\n",
    "\n",
    "This notebook is a quick tour of some of the tools you will be using to perform data analysis on Financial Markets Data using the python suite of technologies.\n",
    "\n",
    "At the end of this notebook you will have a solid grounding in the following areas:\n",
    "\n",
    "- **Jupyter Notebook** - How to use the Jupyter notebook to perform Data Analysis using Python.\n",
    "<br><br>\n",
    "- **Data Analysis** - A sense of the type of analysis you can reasonably expect to be able to perform using this technology.\n",
    "<br><br>\n",
    "- **Python Packages** - pandas, numpy and matplotlib.pyplot and what they are used for.\n",
    "<br><br>\n",
    "\n",
    "**Note That:**\n",
    "- This is a quick tour of data analysis using python.\n",
    "\n",
    "- There will be a lot of commands and character sequences that you do not understand.\n",
    "\n",
    "- Do not **panic** or **worry** about this, we will be explaining all of these in due course.\n",
    "\n",
    "- The important part of this introductory session is for you to get a sense of what you can do with this technology.\n",
    "\n",
    "- We will cover the \"nitty gritty\" in later labs and notebooks"
   ]
  },
  {
   "cell_type": "markdown",
   "metadata": {},
   "source": [
    "# Packages\n",
    "\n",
    "- In order to perform any analysis on data, you must load the correct python package into your notebook.\n",
    "<br><br>\n",
    "- A package (sometimes called a library) is essentially a set of python commands, functions and methods that you can type into your notebook to perform some work and get some results.\n",
    "<br><br>\n",
    "- You will use different python packages to perform different types of work.\n",
    "<br><br>\n",
    "- For example, producing graphs and charts requires a different package (set of commands) than performing heavy duty mathematical computation.\n",
    "<br><br>\n",
    "- The main package we will use in this course is the package that allows us to work with tables of data, very similar to using a spreadsheet such as Microsoft Excel, Google Charts or Apple Numbers.\n",
    "<br><br>\n",
    "- This python library is called **pandas**.\n",
    "<br><br>\n",
    "- Use the **import** statement to load this package into your notebook"
   ]
  },
  {
   "cell_type": "code",
   "execution_count": null,
   "metadata": {},
   "outputs": [],
   "source": [
    "import warnings\n",
    "warnings.filterwarnings(\"ignore\", category=DeprecationWarning) \n",
    "warnings.filterwarnings(\"ignore\", category=FutureWarning) \n",
    "\n",
    "import pandas as pd"
   ]
  },
  {
   "cell_type": "markdown",
   "metadata": {},
   "source": [
    "# python\n",
    "\n",
    "** Congratulations!!!!! ** -- You have just executed your first line of python code. "
   ]
  },
  {
   "cell_type": "markdown",
   "metadata": {},
   "source": [
    "# DataFrames\n",
    "\n",
    "- A DataFrame is a rectangular table of data.\n",
    "- Contains rows and columns\n",
    "- Columns have headings\n",
    "- Rows have an index\n"
   ]
  },
  {
   "cell_type": "markdown",
   "metadata": {},
   "source": [
    "## DataFrames - Creating a DataFrame from a csv file\n",
    "\n",
    "There are quite a few ways to create a DataFrame.\n",
    "<br><br>\n",
    "Load in the data in the worksheet sp500 form the spreadsheet sample_data.xls"
   ]
  },
  {
   "cell_type": "code",
   "execution_count": null,
   "metadata": {},
   "outputs": [],
   "source": [
    "df = pd.read_csv(filepath_or_buffer='../Data/constituents.csv',index_col='Symbol')\n",
    "\n",
    "df"
   ]
  },
  {
   "cell_type": "markdown",
   "metadata": {},
   "source": [
    "## DataFrames - Executing Functions / Methods\n",
    "\n",
    "- There are literally hundreds of methods you can execute on a DataFrame\n",
    "- Try the following\n",
    "<br><br>\n",
    "df.head - the first 5 rows\n",
    "<br>\n",
    "df.head(n) - the first n rows\n",
    "<br>\n",
    "df.tail - the last 5 rows\n",
    "<br>\n",
    "df.tail(n) the last n rows\n",
    "<br>"
   ]
  },
  {
   "cell_type": "code",
   "execution_count": null,
   "metadata": {
    "scrolled": true
   },
   "outputs": [],
   "source": [
    "df.head()\n",
    "df.head(8)\n",
    "df.tail()\n",
    "df.tail(8)\n"
   ]
  },
  {
   "cell_type": "markdown",
   "metadata": {},
   "source": [
    "## DataFrames - Rows and Columns \n",
    "\n",
    "Selecting data from a DataFrame for specific row(s) or columns(s)\n",
    "<br><br>\n",
    "- use df['ColA'] to select a single column \n",
    "- use df[['ColA', 'ColB']] to select multiple columns\n",
    "- use df.loc['RowA'] to select a row by the rows label\n",
    "- use df.loc[['RowA', ['RowB']] to select a row by the rows label"
   ]
  },
  {
   "cell_type": "code",
   "execution_count": null,
   "metadata": {},
   "outputs": [],
   "source": [
    "df['Name']\n",
    "df[['Name', 'Sector', 'Price']]\n",
    "\n",
    "df.loc['FB']\n",
    "#\n",
    "df.loc[['IBM', 'MMM', 'C']]"
   ]
  },
  {
   "cell_type": "markdown",
   "metadata": {},
   "source": [
    "## DataFrames - Tip\n",
    "\n",
    "The syntax for selecting multiple rows and multiple columns looks a bit awkward, especially if you are not familiar with computer programming.\n",
    "\n",
    "The confusion arises from the following:\n",
    "- Why use a single set of square brackets [ 'ColA' ] in some cases and a double set of square brackets in other cases [['ColA', 'ColB']]\n",
    "- This is to do with the python programming language and its choice of syntax for certain types of collections.\n",
    "<br><br>\n",
    "\n",
    "Quite often, analysts will simply create a list of the columns or rows they are interested in, give this list a name and use it instead."
   ]
  },
  {
   "cell_type": "code",
   "execution_count": null,
   "metadata": {},
   "outputs": [],
   "source": [
    "cols = ['Name', 'Sector', 'Price']\n",
    "df[cols]\n",
    "\n",
    "rows = ['IBM', 'MMM', 'C']\n",
    "df.loc[rows]"
   ]
  },
  {
   "cell_type": "markdown",
   "metadata": {},
   "source": [
    "## DataFrames - functions on columns of data\n",
    "\n",
    "It's easy to apply functions to specific columns of data.\n",
    "\n",
    "Select the column(s) of interest\n",
    "\n",
    "Use the .function() syntax\n",
    "\n",
    "- df['ColA'].mean() -- the mean \n",
    "- df['ColB].min() -- the minimum \n",
    "- df['COlA'].count() -- a count of how many values in ColA\n",
    "- df['ColB].max() -- the maximum price/earnings\n",
    "- df[mycols].median() -- median of all columns in the sequence mycols"
   ]
  },
  {
   "cell_type": "code",
   "execution_count": null,
   "metadata": {},
   "outputs": [],
   "source": [
    "cols = ['52 Week High', '52 Week Low']\n",
    "\n",
    "df['Price'].mean()\n",
    "df['Price'].min()\n",
    "df['Name'].count()\n",
    "df[cols].max()\n",
    "df[cols].median()\n",
    "\n",
    "# max and min also have a meaning when working with string values\n",
    "df['Name'].max()\n",
    "df['Name'].min()"
   ]
  },
  {
   "cell_type": "markdown",
   "metadata": {},
   "source": [
    "# numpy\n",
    "\n",
    "**numpy** (numerical python) is a python package used quite a lot for performing numerical calculations.\n",
    "\n",
    "numpy has been designed specifically to perform advanced computations on large sets of numbers.\n",
    "\n",
    "It is extremely fast, it is extremely memory efficient and it is very often used in conjunction with pandas when performing complex numerical calculations in conjunction with data analysis on large sets of data.\n",
    "\n",
    "numpy is an advanced library designed to meet the needs of advanced users, but a rudimentary understanding of numpy is important to become efficient with pandas and DataFrames"
   ]
  },
  {
   "cell_type": "code",
   "execution_count": null,
   "metadata": {},
   "outputs": [],
   "source": [
    "import numpy as np"
   ]
  },
  {
   "cell_type": "markdown",
   "metadata": {},
   "source": [
    "## numpy arrays\n",
    "\n",
    "A numpy array is a collection of values.\n",
    "\n",
    "Internally numpy stores the values in a numpy array in a highly efficient and optimized manner (details of this are way outside the remit of this course)\n",
    "\n",
    "More than likely, you will NEVER need to know the internal structure of a numpy array (or any numpy data structure)\n",
    "\n",
    "However, you should appreciate or simply accept that when performing calculations on sets of numbers, you will need to use the numpy package"
   ]
  },
  {
   "cell_type": "code",
   "execution_count": null,
   "metadata": {},
   "outputs": [],
   "source": [
    "arr1 = np.array ([1,2,3,4,5])\n",
    "arr2 = np.array([10,20,30,40,50])"
   ]
  },
  {
   "cell_type": "markdown",
   "metadata": {},
   "source": [
    "## numpy array  -- arithmetic\n",
    "\n",
    "Use standard mathematical notation for adding, subtracting and comparing entire arrays.\n",
    "\n",
    "For those who understand computer programming, note: ** NO NEED TO LOOP OVER EACH VALUE **"
   ]
  },
  {
   "cell_type": "code",
   "execution_count": null,
   "metadata": {},
   "outputs": [],
   "source": [
    "# E.g. Add all values in arr1 and arr2\n",
    "\n",
    "# Note there is no need for looping etc.\n",
    "arr1 + arr2\n",
    "\n",
    "# Same for other operations\n",
    "arr1 * arr2\n",
    "\n",
    "arr2 - arr1"
   ]
  },
  {
   "cell_type": "markdown",
   "metadata": {},
   "source": [
    "## numpy array -- comparisons"
   ]
  },
  {
   "cell_type": "code",
   "execution_count": null,
   "metadata": {},
   "outputs": [],
   "source": [
    "# same for comparisons\n",
    "arr1 > arr2\n",
    "arr1 < arr2\n",
    "arr1 <= arr2\n",
    "arr1 >= arr2\n",
    "arr1 == arr2\n",
    "arr1 != arr2\n",
    "\n",
    "# and also more complex expressions\n",
    "(arr1 + 12) >= 15\n",
    "(arr2 - arr1) == 27"
   ]
  },
  {
   "cell_type": "markdown",
   "metadata": {},
   "source": [
    "## numpy - boolean operators\n"
   ]
  },
  {
   "cell_type": "code",
   "execution_count": null,
   "metadata": {},
   "outputs": [],
   "source": [
    "np.logical_or(  (arr1 % 2) == 0, (arr2 % 20) == 0 )\n",
    "\n",
    "np.logical_and( (arr1 % 2) == 0, (arr2 % 20) == 0 )\n",
    "\n",
    "np.logical_not( (arr1 % 2) == 0 )\n"
   ]
  },
  {
   "cell_type": "markdown",
   "metadata": {},
   "source": [
    "## numpy - scientific functions\n",
    "\n",
    "numpy comes with a whole battery of mathematical functions\n",
    "\n",
    "logs and exponential functions<br>\n",
    "trigonometry<br>\n",
    "advanced statistics\n",
    "\n",
    "These work on individual values or on arrays of values"
   ]
  },
  {
   "cell_type": "code",
   "execution_count": null,
   "metadata": {},
   "outputs": [],
   "source": [
    "np.square(6)\n",
    "np.square(arr1)\n",
    "\n",
    "np.log10(100)\n",
    "np.log(arr2)\n",
    "\n",
    "np.exp(arr1)"
   ]
  },
  {
   "cell_type": "markdown",
   "metadata": {},
   "source": [
    "## array arithmetic with a DataFrame\n",
    "\n",
    "The same style of arithmetic can be used on the columns of a DataFrame\n",
    "\n",
    "df['ColA'] = df['ColB']\n",
    "\n",
    "df['ColA'] > 12"
   ]
  },
  {
   "cell_type": "code",
   "execution_count": null,
   "metadata": {},
   "outputs": [],
   "source": [
    "df['52 Week High'] - df['52 Week Low']\n",
    "\n",
    "df['Price'] < 100"
   ]
  },
  {
   "cell_type": "markdown",
   "metadata": {},
   "source": [
    "## numpy - where\n",
    "\n",
    "The numpy **where** function is an extremely useful function, we will be using it in some financial analysis that we will be doing later on in this course.\n",
    "\n",
    "np.where is a function that accepts 3 parameters:<br>\n",
    "* an expression<br>\n",
    "* a value to return if the expression is True<br>\n",
    "* a value to return if the expression is False\n",
    "\n",
    "For example\n",
    "\n",
    "the operator % is also known as the modulo operator.\n",
    "\n",
    "The modulus of a number is its remainder after performing division on it.\n",
    "\n",
    "e.g. \n",
    "\n",
    "5 % 2 = 1\n",
    "<br>\n",
    "4 % 2 = 0\n",
    "<br>\n",
    "3 % 2 = 1\n",
    "\n",
    "A simple way to test if a number is even is to check if modulus 2 returns 0\n",
    "\n",
    "Try the following:\n",
    "<br>\n",
    "np.where(arr1 % 2 == 0, 'Even', 'Odd')\n",
    "\n",
    "This should return the correct word 'Even' or 'Odd' for each number in the array 'arr1'\n"
   ]
  },
  {
   "cell_type": "code",
   "execution_count": null,
   "metadata": {},
   "outputs": [],
   "source": [
    "arr1 = np.array ([1,2,3,4,5,6])\n",
    "arr2 = np.array ([2,2,4,4,6,6])\n",
    "\n",
    "np.where(arr1 % 2 == 0, 'Even', 'Odd')\n",
    "np.where(arr1 == arr2, 'Matched', 'Did not Match')"
   ]
  },
  {
   "cell_type": "markdown",
   "metadata": {},
   "source": [
    "## numpy where on a DataFrame\n",
    "\n",
    "np.where can be used on a DataFrame:\n",
    "\n",
    "e.g.\n",
    "\n",
    "np.where(df['Earnings/Share'] < 0, 'Negative', 'Positive')"
   ]
  },
  {
   "cell_type": "code",
   "execution_count": null,
   "metadata": {
    "scrolled": true
   },
   "outputs": [],
   "source": [
    "np.where(df['Price'] < 100, 'Cheap', 'Expensive')\n",
    "\n",
    "np.where( (df['Sector'] == 'Industrials') & (df['Price'] > 50), 'Good', 'Bad')"
   ]
  },
  {
   "cell_type": "markdown",
   "metadata": {},
   "source": [
    "# Graphs and Charts\n",
    "\n",
    "There are lots of sophisticated charting and graphing packages for python\n",
    "\n",
    "The one we will be using is called **matplotlib.pyplot**\n",
    "\n",
    "You can draw simple line charts of columns by using the **plot()** method on a column\n"
   ]
  },
  {
   "cell_type": "code",
   "execution_count": null,
   "metadata": {},
   "outputs": [],
   "source": [
    "import matplotlib.pyplot as plt\n",
    "\n",
    "%matplotlib inline"
   ]
  },
  {
   "cell_type": "markdown",
   "metadata": {},
   "source": [
    "## Plot some values\n",
    "\n",
    "e.g. a bar chart showing the 52 Week High and low for famous FANG stocks (Facebook, Amazon, Netflix and Google)"
   ]
  },
  {
   "cell_type": "code",
   "execution_count": null,
   "metadata": {},
   "outputs": [],
   "source": [
    "cols = ['52 Week High','52 Week Low']\n",
    "rows = ['AAPL', 'AMZN', 'NFLX', 'GOOGL']\n",
    "\n",
    "df.loc[rows][cols].plot(kind='barh')"
   ]
  },
  {
   "cell_type": "code",
   "execution_count": null,
   "metadata": {},
   "outputs": [],
   "source": []
  },
  {
   "cell_type": "code",
   "execution_count": null,
   "metadata": {},
   "outputs": [],
   "source": []
  },
  {
   "cell_type": "code",
   "execution_count": null,
   "metadata": {},
   "outputs": [],
   "source": []
  },
  {
   "cell_type": "code",
   "execution_count": null,
   "metadata": {},
   "outputs": [],
   "source": []
  },
  {
   "cell_type": "code",
   "execution_count": null,
   "metadata": {},
   "outputs": [],
   "source": []
  },
  {
   "cell_type": "code",
   "execution_count": null,
   "metadata": {},
   "outputs": [],
   "source": []
  },
  {
   "cell_type": "code",
   "execution_count": null,
   "metadata": {},
   "outputs": [],
   "source": []
  },
  {
   "cell_type": "code",
   "execution_count": null,
   "metadata": {},
   "outputs": [],
   "source": []
  },
  {
   "cell_type": "code",
   "execution_count": null,
   "metadata": {},
   "outputs": [],
   "source": []
  },
  {
   "cell_type": "code",
   "execution_count": null,
   "metadata": {},
   "outputs": [],
   "source": []
  }
 ],
 "metadata": {
  "kernelspec": {
   "display_name": "Python 3 (ipykernel)",
   "language": "python",
   "name": "python3"
  },
  "language_info": {
   "codemirror_mode": {
    "name": "ipython",
    "version": 3
   },
   "file_extension": ".py",
   "mimetype": "text/x-python",
   "name": "python",
   "nbconvert_exporter": "python",
   "pygments_lexer": "ipython3",
   "version": "3.11.5"
  }
 },
 "nbformat": 4,
 "nbformat_minor": 4
}
