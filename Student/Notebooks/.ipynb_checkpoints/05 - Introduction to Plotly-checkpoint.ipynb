{
 "cells": [
  {
   "cell_type": "markdown",
   "metadata": {},
   "source": [
    "# Introduction\n",
    "\n",
    "Plotly's Python graphing library makes interactive, publication-quality graphs online.\n",
    "\n",
    "1) Line Plots\n",
    "\n",
    "2) Bar Charts\n",
    "\n",
    "3) Timeseries\n",
    "\n",
    "### NOTE\n",
    "If your notebook does not show anything, its because the plotly extensions have not been added ot your anacoda environment\n",
    "\n",
    "Follow these steps\n",
    "\n",
    "In the anaconda terminal:\n",
    "1) `pip install npm` <BR>\n",
    "2) `conda install -c conda-forge nodejs` <BR>\n",
    "3) `jupyter labextension install jupyterlab-plotly` <BR>"
   ]
  },
  {
   "cell_type": "markdown",
   "metadata": {},
   "source": [
    "# Import the plotly packages\n"
   ]
  },
  {
   "cell_type": "code",
   "execution_count": null,
   "metadata": {},
   "outputs": [],
   "source": [
    "import warnings\n",
    "warnings.filterwarnings(\"ignore\", category=DeprecationWarning) \n",
    "warnings.filterwarnings(\"ignore\", category=FutureWarning) \n",
    "\n",
    "import plotly.graph_objs as go"
   ]
  },
  {
   "cell_type": "markdown",
   "metadata": {},
   "source": [
    "# First plot"
   ]
  },
  {
   "cell_type": "markdown",
   "metadata": {},
   "source": [
    "## Using Figure"
   ]
  },
  {
   "cell_type": "code",
   "execution_count": null,
   "metadata": {},
   "outputs": [],
   "source": [
    "fig = go.Figure()\n",
    "fig.add_trace(go.Scatter(y=[2, 1, 4, 3]))\n",
    "fig.add_trace(go.Bar(y=[1, 4, 3, 2]))\n",
    "fig.update_layout(title = 'Hello World')\n",
    "fig.show()"
   ]
  },
  {
   "cell_type": "markdown",
   "metadata": {},
   "source": [
    "## Using FigureWidget"
   ]
  },
  {
   "cell_type": "code",
   "execution_count": null,
   "metadata": {},
   "outputs": [],
   "source": [
    "fig = go.FigureWidget()\n",
    "fig.add_trace(go.Scatter(y=[2, 1, 4, 3]))\n",
    "fig.add_trace(go.Bar(y=[1, 4, 3, 2]))\n",
    "fig.update_layout(title = 'Hello World')\n",
    "fig.show()"
   ]
  },
  {
   "cell_type": "markdown",
   "metadata": {},
   "source": [
    "# Load in some data\n",
    "\n",
    "Create a small table, in this case SP500 grouped by Sector and all columns aggregated on the mean"
   ]
  },
  {
   "cell_type": "code",
   "execution_count": null,
   "metadata": {},
   "outputs": [],
   "source": [
    "import pandas as pd\n",
    "\n",
    "df_raw = pd.read_csv(filepath_or_buffer='../Data/constituents.csv', index_col='Symbol')\n",
    "df = df_raw.groupby(by='Sector').mean(numeric_only=True)\n",
    "\n",
    "df"
   ]
  },
  {
   "cell_type": "markdown",
   "metadata": {},
   "source": [
    "# Line Plots\n",
    "\n",
    "Use `go.Scatter()` with a `mode` of `lines` (or some variation)\n",
    "\n",
    "Create traces\n",
    ">x = x axis<BR>\n",
    ">y = y axis<BR>\n",
    ">mode = type of plot like marker, line or line + markers<BR>\n",
    ">name = name of the plots<BR>\n",
    ">marker = marker is used with dictionary<BR>\n",
    " - color = color of lines. It takes RGB (red, green, blue) and opacity (alpha)<BR>\n",
    ">text = The hover text (hover is curser)<BR>\n",
    "    \n",
    "data<BR>\n",
    ">a list of traces<BR>\n",
    "\n",
    "layout = a dictionary of properties\n",
    ">title = title of layout<BR>\n",
    ">x axis = it is dictionary<BR>\n",
    "-title = label of x axis<BR>\n",
    "-ticklen = length of x axis ticks<BR>\n",
    "-zeroline = showing zero line or not<BR>\n",
    "\n",
    "fig<BR>\n",
    ">data and layout\n",
    "\n"
   ]
  },
  {
   "cell_type": "code",
   "execution_count": null,
   "metadata": {},
   "outputs": [],
   "source": [
    "# import graph objects as \"go\"\n",
    "import plotly.graph_objs as go\n",
    "\n",
    "# Trace 1\n",
    "trace1 = go.Scatter(\n",
    "                    x = list(df.index),\n",
    "                    y = df['52 Week High'],\n",
    "                    mode = \"lines\",\n",
    "                    name = \"P/E\",\n",
    "                    marker = dict(color = 'rgba(16, 112, 2, 0.8)')\n",
    "                    )\n",
    "# Trace 2\n",
    "trace2 = go.Scatter(\n",
    "                    x = list(df.index),\n",
    "                    y = df['52 Week Low'],\n",
    "                    mode = \"lines+markers\",\n",
    "                    name = \"E/S\",\n",
    "                    marker = dict(color = 'rgba(80, 26, 80, 0.8)'),\n",
    "                    )\n",
    "data = [trace1, trace2]\n",
    "layout = dict(title = '52 Week High / Low / Sector for SP500',\n",
    "              xaxis= dict(title= 'Sector',ticklen= 5,zeroline= False)\n",
    "             )\n",
    "fig_data = dict(data = data, layout = layout)\n",
    "fig = go.Figure(data = fig_data )\n",
    "\n",
    "fig.show()"
   ]
  },
  {
   "cell_type": "markdown",
   "metadata": {},
   "source": [
    "# Bar Charts\n",
    "\n",
    "\n",
    "Creating traces\n",
    ">x = x axis<BR>\n",
    ">y = y axis<BR>\n",
    ">mode = type of plot like marker, line or line + markers<BR>\n",
    ">name = name of the plots<BR>\n",
    ">marker = marker is used with dictionary<BR>\n",
    "- color = color of lines. It takes RGB (red, green, blue) and opacity (alpha)\n",
    "- line = It is dictionary. line between bars\n",
    "- color = line color around bars\n",
    ">text = The hover text (hover is curser)<BR>\n",
    "\n",
    "data<BR>\n",
    ">a list of traces<BR>\n",
    "\n",
    "layout = a dictionary of properties\n",
    ">barmode = bar mode of bars like grouped\n"
   ]
  },
  {
   "cell_type": "code",
   "execution_count": null,
   "metadata": {},
   "outputs": [],
   "source": [
    "# Trace 1\n",
    "trace1 = go.Bar(\n",
    "                x = list(df.index),\n",
    "                y = df['52 Week High'],\n",
    "                name='52 Week High',\n",
    "                marker = dict(color = 'rgba(255, 174, 255, 0.5)',\n",
    "                              line=dict(color='rgb(0,0,0)',width=1.5))\n",
    "                )\n",
    "# Trace 2\n",
    "trace2 = go.Bar(\n",
    "                x = list(df.index),\n",
    "                y = df['52 Week Low'],\n",
    "                name='52 Week Low',\n",
    "                marker = dict(color = 'rgba(255, 255, 128, 0.5)',\n",
    "                              line=dict(color='rgb(0,0,0)',width=1.5))\n",
    "                )\n",
    "\n",
    "data = [trace1, trace2]\n",
    "layout = go.Layout(barmode = \"group\",\n",
    "                   title = 'Mean 52 Wk High & 52 WQk Low / Sector for SP500')\n",
    "fig = go.Figure(data = data, layout = layout)\n",
    "\n",
    "fig.show()"
   ]
  },
  {
   "cell_type": "markdown",
   "metadata": {},
   "source": [
    "# Time Series"
   ]
  },
  {
   "cell_type": "code",
   "execution_count": null,
   "metadata": {},
   "outputs": [],
   "source": [
    "df = pd.read_csv(filepath_or_buffer='../Data/GOOGL.csv', index_col='Date', parse_dates=True)"
   ]
  },
  {
   "cell_type": "markdown",
   "metadata": {},
   "source": [
    "## Using plotly Express"
   ]
  },
  {
   "cell_type": "code",
   "execution_count": null,
   "metadata": {},
   "outputs": [],
   "source": [
    "import plotly.express as px\n",
    "\n",
    "fig = px.line(df, x=df.index, y='High')\n",
    "\n",
    "fig.show()"
   ]
  },
  {
   "cell_type": "markdown",
   "metadata": {},
   "source": [
    "## Using Graph Objects"
   ]
  },
  {
   "cell_type": "code",
   "execution_count": null,
   "metadata": {},
   "outputs": [],
   "source": [
    "trace = go.Scatter(x=df.index, y=df['High'])\n",
    "\n",
    "data = [trace]\n",
    "\n",
    "fig = go.Figure(data = data)\n",
    "\n",
    "fig.show()"
   ]
  },
  {
   "cell_type": "code",
   "execution_count": null,
   "metadata": {},
   "outputs": [],
   "source": [
    "trace1 = go.Scatter(x=df.loc['2016'].index,\n",
    "                    y=df.loc['2016']['High'],\n",
    "                    name=\"High\",\n",
    "                    line_color='deepskyblue',\n",
    "                    opacity=0.8)\n",
    "\n",
    "trace2 = go.Scatter(x=df.loc['2016'].index,\n",
    "                    y=df.loc['2016']['Low'],\n",
    "                    name=\"Low\",\n",
    "                    line_color='dimgray',\n",
    "                    opacity=0.8)\n",
    "\n",
    "\n",
    "data = [trace1, trace2]\n",
    "\n",
    "fig = go.Figure(data=data)\n",
    "\n",
    "# Use date string to set xaxis range\n",
    "fig.update_layout(xaxis_range=['2016-07-01','2016-12-31'],\n",
    "                  title_text=\"Manually Set Date Range\")\n",
    "fig.show()"
   ]
  },
  {
   "cell_type": "markdown",
   "metadata": {},
   "source": [
    "## Time Series With Rangeslider"
   ]
  },
  {
   "cell_type": "code",
   "execution_count": null,
   "metadata": {},
   "outputs": [],
   "source": [
    "trace1 = go.Scatter(x=df.index, y=df['High'], name=\"High\", line_color='deepskyblue')\n",
    "\n",
    "trace2 = go.Scatter(x=df.index, y=df['Low'], name=\"Low\", line_color='dimgray')\n",
    "\n",
    "data= [trace1, trace2]\n",
    "\n",
    "fig = go.Figure(data=data)\n",
    "\n",
    "fig.update_layout(title_text='Time Series with Rangeslider',\n",
    "                  xaxis_rangeslider_visible=True)\n",
    "fig.show()"
   ]
  },
  {
   "cell_type": "code",
   "execution_count": null,
   "metadata": {},
   "outputs": [],
   "source": []
  },
  {
   "cell_type": "code",
   "execution_count": null,
   "metadata": {},
   "outputs": [],
   "source": []
  },
  {
   "cell_type": "code",
   "execution_count": null,
   "metadata": {},
   "outputs": [],
   "source": []
  },
  {
   "cell_type": "code",
   "execution_count": null,
   "metadata": {},
   "outputs": [],
   "source": []
  },
  {
   "cell_type": "code",
   "execution_count": null,
   "metadata": {},
   "outputs": [],
   "source": []
  },
  {
   "cell_type": "code",
   "execution_count": null,
   "metadata": {},
   "outputs": [],
   "source": []
  },
  {
   "cell_type": "code",
   "execution_count": null,
   "metadata": {},
   "outputs": [],
   "source": []
  }
 ],
 "metadata": {
  "kernelspec": {
   "display_name": "Python 3 (ipykernel)",
   "language": "python",
   "name": "python3"
  },
  "language_info": {
   "codemirror_mode": {
    "name": "ipython",
    "version": 3
   },
   "file_extension": ".py",
   "mimetype": "text/x-python",
   "name": "python",
   "nbconvert_exporter": "python",
   "pygments_lexer": "ipython3",
   "version": "3.11.5"
  },
  "vscode": {
   "interpreter": {
    "hash": "752a8dbf0d2606d0e4a8fd11745a0f3cf206e4848a02eb7bb5eda5c098d7f642"
   }
  }
 },
 "nbformat": 4,
 "nbformat_minor": 4
}
